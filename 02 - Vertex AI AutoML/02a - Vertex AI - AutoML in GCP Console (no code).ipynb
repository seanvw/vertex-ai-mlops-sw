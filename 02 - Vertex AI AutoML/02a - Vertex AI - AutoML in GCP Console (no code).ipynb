{
 "cells": [
  {
   "cell_type": "markdown",
   "id": "1c4ce6da",
   "metadata": {},
   "source": [
    "![tracker](https://us-central1-vertex-ai-mlops-369716.cloudfunctions.net/pixel-tracking?path=statmike%2Fvertex-ai-mlops%2F02+-+Vertex+AI+AutoML&file=02a+-+Vertex+AI+-+AutoML+in+GCP+Console+%28no+code%29.ipynb)\n",
    "<!--- header table --->\n",
    "<table align=\"left\">\n",
    "  <td style=\"text-align: center\">\n",
    "    <a href=\"https://colab.research.google.com/github/statmike/vertex-ai-mlops/blob/main/02%20-%20Vertex%20AI%20AutoML/02a%20-%20Vertex%20AI%20-%20AutoML%20in%20GCP%20Console%20%28no%20code%29.ipynb\">\n",
    "      <img src=\"https://cloud.google.com/ml-engine/images/colab-logo-32px.png\" alt=\"Google Colaboratory logo\">\n",
    "      <br>Run in<br>Colab\n",
    "    </a>\n",
    "  </td>\n",
    "  <td style=\"text-align: center\">\n",
    "    <a href=\"https://console.cloud.google.com/vertex-ai/colab/import/https%3A%2F%2Fraw.githubusercontent.com%2Fstatmike%2Fvertex-ai-mlops%2Fmain%2F02%2520-%2520Vertex%2520AI%2520AutoML%2F02a%2520-%2520Vertex%2520AI%2520-%2520AutoML%2520in%2520GCP%2520Console%2520%2528no%2520code%2529.ipynb\">\n",
    "      <img width=\"32px\" src=\"https://lh3.googleusercontent.com/JmcxdQi-qOpctIvWKgPtrzZdJJK-J3sWE1RsfjZNwshCFgE_9fULcNpuXYTilIR2hjwN\" alt=\"Google Cloud Colab Enterprise logo\">\n",
    "      <br>Run in<br>Colab Enterprise\n",
    "    </a>\n",
    "  </td>      \n",
    "  <td style=\"text-align: center\">\n",
    "    <a href=\"https://github.com/statmike/vertex-ai-mlops/blob/main/02%20-%20Vertex%20AI%20AutoML/02a%20-%20Vertex%20AI%20-%20AutoML%20in%20GCP%20Console%20%28no%20code%29.ipynb\">\n",
    "      <img src=\"https://cloud.google.com/ml-engine/images/github-logo-32px.png\" alt=\"GitHub logo\">\n",
    "      <br>View on<br>GitHub\n",
    "    </a>\n",
    "  </td>\n",
    "  <td style=\"text-align: center\">\n",
    "    <a href=\"https://console.cloud.google.com/vertex-ai/workbench/deploy-notebook?download_url=https://raw.githubusercontent.com/statmike/vertex-ai-mlops/main/02%20-%20Vertex%20AI%20AutoML/02a%20-%20Vertex%20AI%20-%20AutoML%20in%20GCP%20Console%20%28no%20code%29.ipynb\">\n",
    "      <img src=\"https://lh3.googleusercontent.com/UiNooY4LUgW_oTvpsNhPpQzsstV5W8F7rYgxgGBD85cWJoLmrOzhVs_ksK_vgx40SHs7jCqkTkCk=e14-rj-sc0xffffff-h130-w32\" alt=\"Vertex AI logo\">\n",
    "      <br>Open in<br>Vertex AI Workbench\n",
    "    </a>\n",
    "  </td>\n",
    "</table>"
   ]
  },
  {
   "cell_type": "markdown",
   "id": "57568ace",
   "metadata": {},
   "source": [
    "# 02a - Vertex AI - AutoML in GCP Console (no code)\n",
    "\n",
    "Use Vertex AI from the GCP Console for a no-code approach building a custom model with AutoML and deploy it for predictions.\n",
    "\n",
    "### Video Walkthrough of this notebook:\n",
    "Includes conversational walkthrough and more explanatory information than the notebook:\n",
    "<p align=\"center\" width=\"100%\"><center><a href=\"https://youtu.be/ZZadMQTKJXk\" target=\"_blank\" rel=\"noopener noreferrer\"><img src=\"../architectures/thumbnails/playbutton/02a.png\" width=\"40%\"></a></center></p>\n",
    "\n",
    "### Prerequisites:\n",
    "-  01 - BigQuery - Table Data Source\n",
    "\n",
    "### Resources:\n",
    "-  [AutoML Tabular Training Job With GCP Console](https://cloud.google.com/vertex-ai/docs/training/automl-console#tabular)\n",
    "\n",
    "### Related Training:\n",
    "-  [Tutorial for AutoML Tabular](https://cloud.google.com/vertex-ai/docs/tutorials/tabular-automl)\n",
    "\n",
    "### Conceptual Flow & Workflow\n",
    "<p align=\"center\">\n",
    "  <img alt=\"Conceptual Flow\" src=\"../architectures/slides/02a_arch.png\" width=\"45%\">\n",
    "&nbsp; &nbsp; &nbsp; &nbsp;\n",
    "  <img alt=\"Workflow\" src=\"../architectures/slides/02a_console.png\" width=\"45%\">\n",
    "</p>"
   ]
  },
  {
   "cell_type": "markdown",
   "id": "66e431d5",
   "metadata": {},
   "source": [
    "---\n",
    "## Create Dataset (link to BigQuery table)\n",
    "\n",
    "From the Console:\n",
    "- Go to Vertex AI\n",
    "- Selected `Datasets`\n",
    "- Select `CREATE DATASET`\n",
    "\n",
    "<img src=\"../architectures/notebooks/02a_screenshots/ds_1.png\" width=\"50%\">\n",
    "\n",
    "- Name the dataset `02a`\n",
    "- Select `Tabular` and `Regression/classification`\n",
    "    - [More on Model Types](https://cloud.google.com/vertex-ai/docs/start/automl-model-types)\n",
    "- Click `Create`\n",
    "\n",
    "<img src=\"../architectures/notebooks/02a_screenshots/ds_2.png\" width=\"50%\">\n",
    "\n",
    "- Under Select a data source pick `Select a table or view from BigQuery`\n",
    "- Enter the BigQuery path (or browse) to the prepped table created in notebook 01\n",
    "- Click `CONTINUE`\n",
    "\n",
    "<img src=\"../architectures/notebooks/02a_screenshots/ds_3.png\" width=\"50%\">\n",
    "\n",
    "- The `ANALYZE` tab for the dataset will be displayed for review:\n",
    "\n",
    "<img src=\"../architectures/notebooks/02a_screenshots/ds_4.png\" width=\"50%\">\n",
    "\n",
    "- Going back to the `Datasets` dashboard will display the registered dataset\n",
    "\n",
    "<img src=\"../architectures/notebooks/02a_screenshots/ds_5.png\" width=\"50%\">"
   ]
  },
  {
   "cell_type": "markdown",
   "id": "87433be1",
   "metadata": {},
   "source": [
    "---\n",
    "## Train Model with AutoML\n",
    "\n",
    "On The Vertex AI console, select `Training`:\n",
    "\n",
    "<img src=\"../architectures/notebooks/02a_screenshots/train_1.png\" width=\"50%\">\n",
    "\n",
    "Next to `Training` (near the top), select `CREATE`\n",
    "- For Dataset enter `02a`\n",
    "- For Objective make sure `Classification` is selected\n",
    "- Use `AutoML` for the method\n",
    "- Click `CONTINUE`\n",
    "\n",
    "<img src=\"../architectures/notebooks/02a_screenshots/train_2.png\" width=\"50%\">\n",
    "\n",
    "For `Model Details`:\n",
    "- Keep the default `Model name` which appends a datetime to the end of the dataset name\n",
    "- For `Target column` select the column to train predictions for\n",
    "- Expand `ADVANCED OPTIONS`:\n",
    "    - Select `Manual` for the Data split method\n",
    "    - Select the `splits` variables that was created in Notebook 01\n",
    "- Click `CONTINUE`\n",
    "\n",
    "<img src=\"../architectures/notebooks/02a_screenshots/train_3.png\" width=\"50%\">\n",
    "\n",
    "For `Training options`:\n",
    "- Click the `-` symbol next to any rows for variables that should be excluded from training, like the `transaction_id`\n",
    "- More on Adavanced Options:\n",
    "    - [Model Weights](https://cloud.google.com/vertex-ai/docs/datasets/prepare-tabular#weight)\n",
    "    - [Optimization Objectives](https://cloud.google.com/vertex-ai/docs/training/tabular-opt-obj)\n",
    "        - Pick AUC PR (Due to imbalance in Class)\n",
    "- Click `CONTINUE`\n",
    "\n",
    "<img src=\"../architectures/notebooks/02a_screenshots/train_4.png\" width=\"50%\">\n",
    "\n",
    "For `Compute and pricing`:\n",
    "- Enter a `Budget` of 1 node hour\n",
    "    - A guide for choosing the right amount of time can be found [here](https://cloud.google.com/vertex-ai/docs/training/automl-console#tabular): \n",
    "- Make sure `Enable early stopping` is toggled on\n",
    "- Click `START TRAINING`\n",
    "\n",
    "<img src=\"../architectures/notebooks/02a_screenshots/train_5.png\" width=\"50%\">\n",
    "\n",
    "Return to the Vertex AI console `Training` Menu:\n",
    "- Once the model completes training the name will be accompanied by a green check mark\n",
    "\n",
    "<img src=\"../architectures/notebooks/02a_screenshots/train_6.png\" width=\"50%\">"
   ]
  },
  {
   "cell_type": "markdown",
   "id": "1a962bf5",
   "metadata": {},
   "source": [
    "---\n",
    "## Model: Evaluate, Select, Deploy\n",
    "\n",
    "On the Vertex AI console, select `Models`\n",
    "\n",
    "<img src=\"../architectures/notebooks/02a_screenshots/model_1.png\" width=\"50%\">\n",
    "\n",
    "Select the model that was just trained - starts with `02a`:\n",
    "- This brings up the `EVALUATE` tab for the model\n",
    "\n",
    "<img src=\"../architectures/notebooks/02a_screenshots/model_2.png\" width=\"50%\">\n",
    "\n",
    "Select the tab labeled `DEPLOY & TEST`:\n",
    "\n",
    "<img src=\"../architectures/notebooks/02a_screenshots/model_3.png\" width=\"50%\">"
   ]
  },
  {
   "cell_type": "markdown",
   "id": "af28bd96",
   "metadata": {},
   "source": [
    "---\n",
    "## Endpoint\n",
    "\n",
    "While still on the Vetex AI `Models` section with the `DEPLOY & TEST` tab selected:\n",
    "- select `DEPLOY TO ENDPOINT`\n",
    "\n",
    "<img src=\"../architectures/notebooks/02a_screenshots/model_3.png\" width=\"50%\">\n",
    "\n",
    "In the `Deploy to endpoint` menus, complete `Define your endpoint`:\n",
    "- For Endpoint name use `02a`\n",
    "- keep defaults for location and Access\n",
    "- Select `CONTINUE`\n",
    "\n",
    "<img src=\"../architectures/notebooks/02a_screenshots/endpoint_1.png\" width=\"50%\">\n",
    "\n",
    "In the `Model settings` section:\n",
    "- Traffic split should be 100\n",
    "- minimum number of computes nodes is 1\n",
    "- keep the remaining default values for max nodes, scaling, logging and explainability\n",
    "- Select `CONTINUE`\n",
    "\n",
    "<img src=\"../architectures/notebooks/02a_screenshots/endpoint_2.png\" width=\"50%\">\n",
    "\n",
    "In the `Model monitoring` section:\n",
    "- Toggle `Enable model monitoring for this endpoint` on\n",
    "    - for monitoring job use the name `02a`\n",
    "    - use defaults for the other menue items\n",
    "- Select `CONTINUE`\n",
    "\n",
    "<img src=\"../architectures/notebooks/02a_screenshots/endpoint_3.png\" width=\"50%\">\n",
    "\n",
    "In the `Monitoring objectives` section:\n",
    "- Select `Prediction Drift Detection` under Monitoring objective\n",
    "- Select `DEPLOY`\n",
    "\n",
    "<img src=\"../architectures/notebooks/02a_screenshots/endpoint_4.png\" width=\"50%\">\n",
    "\n",
    "Once the model is done being deployed to the endpoint, click the `Endpoints` section of Vertex AI:\n",
    "- Select the endpoint that starts with `02a`\n",
    "- Review the endpoint dashboard for the deployed model\n",
    "\n",
    "<img src=\"../architectures/notebooks/02a_screenshots/endpoint_5.png\" width=\"50%\">\n"
   ]
  },
  {
   "cell_type": "markdown",
   "id": "4066f242",
   "metadata": {},
   "source": [
    "---\n",
    "## Batch\n",
    "\n",
    "In the Verex AI console select the `Batch predictions` section:\n",
    "\n",
    "<img src=\"../architectures/notebooks/02a_screenshots/batch_1.png\" width=\"50%\">\n",
    "\n",
    "Select `Create`:\n",
    "- name the prediction `02a`\n",
    "- for model name select the model that starts with `02a`\n",
    "- for Select source, pick BigQuery table\n",
    "- provide the location of the BigQuery source table\n",
    "- for storage location pick output format of BigQuery\n",
    "- provide the project for output in BigQuery\n",
    "- select `Generate feature importance`\n",
    "- select `Enable feature attributions for this model`\n",
    "- select `CREATE`\n",
    "\n",
    "<img src=\"../architectures/notebooks/02a_screenshots/batch_2.png\" width=\"50%\">\n",
    "\n",
    "Once the batch prediction job completes it will be listed with a green checkmark under `Batch Predictions`\n",
    "\n",
    "<img src=\"../architectures/notebooks/02a_screenshots/batch_3.png\" width=\"50%\">\n",
    "\n",
    "Selecting the batch prediction job that starts with `02a` bring up the details of the prediction job\n",
    "\n",
    "<img src=\"../architectures/notebooks/02a_screenshots/batch_4.png\" width=\"50%\">\n",
    "\n",
    "Select the linked BigQuery output table next to `Export location`:\n",
    "\n",
    "<img src=\"../architectures/notebooks/02a_screenshots/batch_5.png\" width=\"50%\">"
   ]
  },
  {
   "cell_type": "markdown",
   "id": "33a23c17",
   "metadata": {},
   "source": [
    "---\n",
    "## Prediction"
   ]
  },
  {
   "cell_type": "markdown",
   "id": "a42e6c09",
   "metadata": {},
   "source": [
    "inputs:"
   ]
  },
  {
   "cell_type": "code",
   "execution_count": 29,
   "id": "baf1e84b-8051-4c36-a99a-77703ec42f67",
   "metadata": {
    "tags": []
   },
   "outputs": [
    {
     "data": {
      "text/plain": [
       "'statmike-demo-sw'"
      ]
     },
     "execution_count": 29,
     "metadata": {},
     "output_type": "execute_result"
    }
   ],
   "source": [
    "# seanvw changed minor things in reporting for understanding \n",
    "project = !gcloud config get-value project\n",
    "PROJECT_ID = project[0]\n",
    "PROJECT_ID"
   ]
  },
  {
   "cell_type": "code",
   "execution_count": 30,
   "id": "190ee41c",
   "metadata": {
    "tags": []
   },
   "outputs": [],
   "source": [
    "REGION = 'us-central1'\n",
    "DATANAME = 'fraud'\n",
    "NOTEBOOK = '02a'\n",
    "\n",
    "# Model Training\n",
    "VAR_TARGET = 'Class'\n",
    "VAR_OMIT = 'transaction_id' # add more variables to the string with space delimiters"
   ]
  },
  {
   "cell_type": "markdown",
   "id": "352e4abd",
   "metadata": {},
   "source": [
    "packages:"
   ]
  },
  {
   "cell_type": "code",
   "execution_count": 31,
   "id": "b08e72b7",
   "metadata": {
    "tags": []
   },
   "outputs": [],
   "source": [
    "from google.cloud import aiplatform\n",
    "\n",
    "from google.cloud import bigquery\n",
    "from google.protobuf import json_format\n",
    "from google.protobuf.struct_pb2 import Value\n",
    "import json\n",
    "import numpy as np"
   ]
  },
  {
   "cell_type": "markdown",
   "id": "1b34f1cc",
   "metadata": {},
   "source": [
    "clients:"
   ]
  },
  {
   "cell_type": "code",
   "execution_count": 32,
   "id": "11e140b6",
   "metadata": {
    "tags": []
   },
   "outputs": [],
   "source": [
    "aiplatform.init(project=PROJECT_ID, location=REGION)\n",
    "bigquery = bigquery.Client()"
   ]
  },
  {
   "cell_type": "markdown",
   "id": "50990d52",
   "metadata": {},
   "source": [
    "parameters:"
   ]
  },
  {
   "cell_type": "code",
   "execution_count": 33,
   "id": "fb5ea95d",
   "metadata": {
    "tags": []
   },
   "outputs": [],
   "source": [
    "DIR = f\"temp/{NOTEBOOK}\""
   ]
  },
  {
   "cell_type": "markdown",
   "id": "51d88337",
   "metadata": {},
   "source": [
    "environment:"
   ]
  },
  {
   "cell_type": "code",
   "execution_count": 37,
   "id": "71d83e04",
   "metadata": {
    "tags": []
   },
   "outputs": [],
   "source": [
    "# ! is execute shell command \n",
    "!rm -rf {DIR}\n",
    "!mkdir -p {DIR}"
   ]
  },
  {
   "cell_type": "markdown",
   "id": "e48165db",
   "metadata": {},
   "source": [
    "### Prepare a record for prediction: instance and parameters lists"
   ]
  },
  {
   "cell_type": "code",
   "execution_count": 38,
   "id": "4f3de847",
   "metadata": {
    "tags": []
   },
   "outputs": [],
   "source": [
    "pred = bigquery.query(query = f\"SELECT * FROM {DATANAME}.{DATANAME}_prepped WHERE splits='TEST' LIMIT 10\").to_dataframe()"
   ]
  },
  {
   "cell_type": "code",
   "execution_count": 39,
   "id": "21148cfb",
   "metadata": {
    "tags": []
   },
   "outputs": [
    {
     "data": {
      "text/html": [
       "<div>\n",
       "<style scoped>\n",
       "    .dataframe tbody tr th:only-of-type {\n",
       "        vertical-align: middle;\n",
       "    }\n",
       "\n",
       "    .dataframe tbody tr th {\n",
       "        vertical-align: top;\n",
       "    }\n",
       "\n",
       "    .dataframe thead th {\n",
       "        text-align: right;\n",
       "    }\n",
       "</style>\n",
       "<table border=\"1\" class=\"dataframe\">\n",
       "  <thead>\n",
       "    <tr style=\"text-align: right;\">\n",
       "      <th></th>\n",
       "      <th>Time</th>\n",
       "      <th>V1</th>\n",
       "      <th>V2</th>\n",
       "      <th>V3</th>\n",
       "      <th>V4</th>\n",
       "      <th>V5</th>\n",
       "      <th>V6</th>\n",
       "      <th>V7</th>\n",
       "      <th>V8</th>\n",
       "      <th>V9</th>\n",
       "      <th>...</th>\n",
       "      <th>V23</th>\n",
       "      <th>V24</th>\n",
       "      <th>V25</th>\n",
       "      <th>V26</th>\n",
       "      <th>V27</th>\n",
       "      <th>V28</th>\n",
       "      <th>Amount</th>\n",
       "      <th>Class</th>\n",
       "      <th>transaction_id</th>\n",
       "      <th>splits</th>\n",
       "    </tr>\n",
       "  </thead>\n",
       "  <tbody>\n",
       "    <tr>\n",
       "      <th>0</th>\n",
       "      <td>34522</td>\n",
       "      <td>1.334219</td>\n",
       "      <td>-0.714001</td>\n",
       "      <td>1.150970</td>\n",
       "      <td>-0.561641</td>\n",
       "      <td>-1.348503</td>\n",
       "      <td>-0.011851</td>\n",
       "      <td>-1.184908</td>\n",
       "      <td>0.102537</td>\n",
       "      <td>-0.223988</td>\n",
       "      <td>...</td>\n",
       "      <td>-0.074530</td>\n",
       "      <td>0.161064</td>\n",
       "      <td>0.415758</td>\n",
       "      <td>-0.018807</td>\n",
       "      <td>0.073677</td>\n",
       "      <td>0.022289</td>\n",
       "      <td>0.0</td>\n",
       "      <td>0</td>\n",
       "      <td>341adcbe-2e5b-4f11-a126-f6675e377a2c</td>\n",
       "      <td>TEST</td>\n",
       "    </tr>\n",
       "    <tr>\n",
       "      <th>1</th>\n",
       "      <td>48436</td>\n",
       "      <td>-0.526715</td>\n",
       "      <td>1.969331</td>\n",
       "      <td>0.717350</td>\n",
       "      <td>2.591511</td>\n",
       "      <td>0.546969</td>\n",
       "      <td>0.016715</td>\n",
       "      <td>0.638354</td>\n",
       "      <td>0.315239</td>\n",
       "      <td>-1.960531</td>\n",
       "      <td>...</td>\n",
       "      <td>-0.023175</td>\n",
       "      <td>-0.478423</td>\n",
       "      <td>-0.291009</td>\n",
       "      <td>-0.077659</td>\n",
       "      <td>0.257716</td>\n",
       "      <td>0.143840</td>\n",
       "      <td>0.0</td>\n",
       "      <td>0</td>\n",
       "      <td>b866edb2-0d86-4d17-9153-eb1ccf91c8c4</td>\n",
       "      <td>TEST</td>\n",
       "    </tr>\n",
       "    <tr>\n",
       "      <th>2</th>\n",
       "      <td>121428</td>\n",
       "      <td>1.862689</td>\n",
       "      <td>0.215092</td>\n",
       "      <td>-0.275889</td>\n",
       "      <td>3.860525</td>\n",
       "      <td>0.159390</td>\n",
       "      <td>0.757166</td>\n",
       "      <td>-0.343198</td>\n",
       "      <td>0.246232</td>\n",
       "      <td>-0.383192</td>\n",
       "      <td>...</td>\n",
       "      <td>0.043001</td>\n",
       "      <td>-0.406642</td>\n",
       "      <td>0.080263</td>\n",
       "      <td>0.142979</td>\n",
       "      <td>-0.008010</td>\n",
       "      <td>-0.062718</td>\n",
       "      <td>0.0</td>\n",
       "      <td>0</td>\n",
       "      <td>183bed79-8923-4112-a154-ed88220a8b8e</td>\n",
       "      <td>TEST</td>\n",
       "    </tr>\n",
       "    <tr>\n",
       "      <th>3</th>\n",
       "      <td>115528</td>\n",
       "      <td>2.013415</td>\n",
       "      <td>-0.590562</td>\n",
       "      <td>-0.629547</td>\n",
       "      <td>-0.105676</td>\n",
       "      <td>-0.382462</td>\n",
       "      <td>0.340086</td>\n",
       "      <td>-0.879017</td>\n",
       "      <td>0.257738</td>\n",
       "      <td>1.428004</td>\n",
       "      <td>...</td>\n",
       "      <td>0.112385</td>\n",
       "      <td>0.210308</td>\n",
       "      <td>-0.138977</td>\n",
       "      <td>0.108678</td>\n",
       "      <td>0.002100</td>\n",
       "      <td>-0.053840</td>\n",
       "      <td>0.0</td>\n",
       "      <td>0</td>\n",
       "      <td>2c6c5dbc-3490-46e7-8f88-a20b3b0fada0</td>\n",
       "      <td>TEST</td>\n",
       "    </tr>\n",
       "  </tbody>\n",
       "</table>\n",
       "<p>4 rows × 33 columns</p>\n",
       "</div>"
      ],
      "text/plain": [
       "     Time        V1        V2        V3        V4        V5        V6  \\\n",
       "0   34522  1.334219 -0.714001  1.150970 -0.561641 -1.348503 -0.011851   \n",
       "1   48436 -0.526715  1.969331  0.717350  2.591511  0.546969  0.016715   \n",
       "2  121428  1.862689  0.215092 -0.275889  3.860525  0.159390  0.757166   \n",
       "3  115528  2.013415 -0.590562 -0.629547 -0.105676 -0.382462  0.340086   \n",
       "\n",
       "         V7        V8        V9  ...       V23       V24       V25       V26  \\\n",
       "0 -1.184908  0.102537 -0.223988  ... -0.074530  0.161064  0.415758 -0.018807   \n",
       "1  0.638354  0.315239 -1.960531  ... -0.023175 -0.478423 -0.291009 -0.077659   \n",
       "2 -0.343198  0.246232 -0.383192  ...  0.043001 -0.406642  0.080263  0.142979   \n",
       "3 -0.879017  0.257738  1.428004  ...  0.112385  0.210308 -0.138977  0.108678   \n",
       "\n",
       "        V27       V28  Amount  Class                        transaction_id  \\\n",
       "0  0.073677  0.022289     0.0      0  341adcbe-2e5b-4f11-a126-f6675e377a2c   \n",
       "1  0.257716  0.143840     0.0      0  b866edb2-0d86-4d17-9153-eb1ccf91c8c4   \n",
       "2 -0.008010 -0.062718     0.0      0  183bed79-8923-4112-a154-ed88220a8b8e   \n",
       "3  0.002100 -0.053840     0.0      0  2c6c5dbc-3490-46e7-8f88-a20b3b0fada0   \n",
       "\n",
       "   splits  \n",
       "0    TEST  \n",
       "1    TEST  \n",
       "2    TEST  \n",
       "3    TEST  \n",
       "\n",
       "[4 rows x 33 columns]"
      ]
     },
     "execution_count": 39,
     "metadata": {},
     "output_type": "execute_result"
    }
   ],
   "source": [
    "pred.head(4)"
   ]
  },
  {
   "cell_type": "code",
   "execution_count": 40,
   "id": "15bb1d02",
   "metadata": {
    "tags": []
   },
   "outputs": [
    {
     "data": {
      "text/plain": [
       "{'Time': 34522,\n",
       " 'V1': 1.33421911918444,\n",
       " 'V2': -0.7140011621471549,\n",
       " 'V3': 1.1509701538758101,\n",
       " 'V4': -0.561641411943868,\n",
       " 'V5': -1.3485029380101399,\n",
       " 'V6': -0.0118507847377413,\n",
       " 'V7': -1.18490808965481,\n",
       " 'V8': 0.102536886103678,\n",
       " 'V9': -0.223988366092439,\n",
       " 'V10': 0.44419584985132704,\n",
       " 'V11': -0.199737263520665,\n",
       " 'V12': 0.0581859340653056,\n",
       " 'V13': 1.04270495719695,\n",
       " 'V14': -0.8523902907144201,\n",
       " 'V15': 0.518826720393287,\n",
       " 'V16': 0.851116756797419,\n",
       " 'V17': 0.5428749998835171,\n",
       " 'V18': -1.5784405373893002,\n",
       " 'V19': 0.0986702699965299,\n",
       " 'V20': 0.0746463620703794,\n",
       " 'V21': 0.338553326762383,\n",
       " 'V22': 1.15066761023931,\n",
       " 'V23': -0.0745301547540223,\n",
       " 'V24': 0.161063962746965,\n",
       " 'V25': 0.41575773370107705,\n",
       " 'V26': -0.0188074438365359,\n",
       " 'V27': 0.0736770026009758,\n",
       " 'V28': 0.0222887528390943,\n",
       " 'Amount': 0.0,\n",
       " 'splits': 'TEST'}"
      ]
     },
     "execution_count": 40,
     "metadata": {},
     "output_type": "execute_result"
    }
   ],
   "source": [
    "#newob = pred[pred.columns[~pred.columns.isin(VAR_OMIT.split()+[VAR_TARGET, 'splits'])]].to_dict(orient='records')[0]\n",
    "newob = pred[pred.columns[~pred.columns.isin(VAR_OMIT.split()+[VAR_TARGET])]].to_dict(orient='records')[0]\n",
    "newob"
   ]
  },
  {
   "cell_type": "markdown",
   "id": "5b438694",
   "metadata": {},
   "source": [
    "Need to understand the format of variables that the predictions expect.  AutoML may convert the type of some variables. The following cells retrieve the model from the endpoint and its schemata:"
   ]
  },
  {
   "cell_type": "code",
   "execution_count": 41,
   "id": "fc8f7bb2",
   "metadata": {
    "tags": []
   },
   "outputs": [
    {
     "data": {
      "text/plain": [
       "{'Time': '34522',\n",
       " 'V1': 1.33421911918444,\n",
       " 'V2': -0.7140011621471549,\n",
       " 'V3': 1.1509701538758101,\n",
       " 'V4': -0.561641411943868,\n",
       " 'V5': -1.3485029380101399,\n",
       " 'V6': -0.0118507847377413,\n",
       " 'V7': -1.18490808965481,\n",
       " 'V8': 0.102536886103678,\n",
       " 'V9': -0.223988366092439,\n",
       " 'V10': 0.44419584985132704,\n",
       " 'V11': -0.199737263520665,\n",
       " 'V12': 0.0581859340653056,\n",
       " 'V13': 1.04270495719695,\n",
       " 'V14': -0.8523902907144201,\n",
       " 'V15': 0.518826720393287,\n",
       " 'V16': 0.851116756797419,\n",
       " 'V17': 0.5428749998835171,\n",
       " 'V18': -1.5784405373893002,\n",
       " 'V19': 0.0986702699965299,\n",
       " 'V20': 0.0746463620703794,\n",
       " 'V21': 0.338553326762383,\n",
       " 'V22': 1.15066761023931,\n",
       " 'V23': -0.0745301547540223,\n",
       " 'V24': 0.161063962746965,\n",
       " 'V25': 0.41575773370107705,\n",
       " 'V26': -0.0188074438365359,\n",
       " 'V27': 0.0736770026009758,\n",
       " 'V28': 0.0222887528390943,\n",
       " 'Amount': 0.0,\n",
       " 'splits': 'TEST'}"
      ]
     },
     "execution_count": 41,
     "metadata": {},
     "output_type": "execute_result"
    }
   ],
   "source": [
    "newob['Time'] = str(newob['Time'])\n",
    "newob"
   ]
  },
  {
   "cell_type": "code",
   "execution_count": 43,
   "id": "e89923ef",
   "metadata": {
    "tags": []
   },
   "outputs": [
    {
     "data": {
      "text/plain": [
       "[struct_value {\n",
       "   fields {\n",
       "     key: \"splits\"\n",
       "     value {\n",
       "       string_value: \"TEST\"\n",
       "     }\n",
       "   }\n",
       "   fields {\n",
       "     key: \"V9\"\n",
       "     value {\n",
       "       number_value: -0.223988366092439\n",
       "     }\n",
       "   }\n",
       "   fields {\n",
       "     key: \"V8\"\n",
       "     value {\n",
       "       number_value: 0.102536886103678\n",
       "     }\n",
       "   }\n",
       "   fields {\n",
       "     key: \"V7\"\n",
       "     value {\n",
       "       number_value: -1.18490808965481\n",
       "     }\n",
       "   }\n",
       "   fields {\n",
       "     key: \"V6\"\n",
       "     value {\n",
       "       number_value: -0.0118507847377413\n",
       "     }\n",
       "   }\n",
       "   fields {\n",
       "     key: \"V5\"\n",
       "     value {\n",
       "       number_value: -1.3485029380101399\n",
       "     }\n",
       "   }\n",
       "   fields {\n",
       "     key: \"V4\"\n",
       "     value {\n",
       "       number_value: -0.561641411943868\n",
       "     }\n",
       "   }\n",
       "   fields {\n",
       "     key: \"V3\"\n",
       "     value {\n",
       "       number_value: 1.1509701538758101\n",
       "     }\n",
       "   }\n",
       "   fields {\n",
       "     key: \"V2\"\n",
       "     value {\n",
       "       number_value: -0.71400116214715492\n",
       "     }\n",
       "   }\n",
       "   fields {\n",
       "     key: \"V28\"\n",
       "     value {\n",
       "       number_value: 0.0222887528390943\n",
       "     }\n",
       "   }\n",
       "   fields {\n",
       "     key: \"V27\"\n",
       "     value {\n",
       "       number_value: 0.0736770026009758\n",
       "     }\n",
       "   }\n",
       "   fields {\n",
       "     key: \"V26\"\n",
       "     value {\n",
       "       number_value: -0.0188074438365359\n",
       "     }\n",
       "   }\n",
       "   fields {\n",
       "     key: \"V25\"\n",
       "     value {\n",
       "       number_value: 0.41575773370107705\n",
       "     }\n",
       "   }\n",
       "   fields {\n",
       "     key: \"V24\"\n",
       "     value {\n",
       "       number_value: 0.161063962746965\n",
       "     }\n",
       "   }\n",
       "   fields {\n",
       "     key: \"V23\"\n",
       "     value {\n",
       "       number_value: -0.0745301547540223\n",
       "     }\n",
       "   }\n",
       "   fields {\n",
       "     key: \"V22\"\n",
       "     value {\n",
       "       number_value: 1.15066761023931\n",
       "     }\n",
       "   }\n",
       "   fields {\n",
       "     key: \"V21\"\n",
       "     value {\n",
       "       number_value: 0.338553326762383\n",
       "     }\n",
       "   }\n",
       "   fields {\n",
       "     key: \"V20\"\n",
       "     value {\n",
       "       number_value: 0.0746463620703794\n",
       "     }\n",
       "   }\n",
       "   fields {\n",
       "     key: \"V1\"\n",
       "     value {\n",
       "       number_value: 1.33421911918444\n",
       "     }\n",
       "   }\n",
       "   fields {\n",
       "     key: \"V19\"\n",
       "     value {\n",
       "       number_value: 0.0986702699965299\n",
       "     }\n",
       "   }\n",
       "   fields {\n",
       "     key: \"V18\"\n",
       "     value {\n",
       "       number_value: -1.5784405373893002\n",
       "     }\n",
       "   }\n",
       "   fields {\n",
       "     key: \"V17\"\n",
       "     value {\n",
       "       number_value: 0.54287499988351706\n",
       "     }\n",
       "   }\n",
       "   fields {\n",
       "     key: \"V16\"\n",
       "     value {\n",
       "       number_value: 0.851116756797419\n",
       "     }\n",
       "   }\n",
       "   fields {\n",
       "     key: \"V15\"\n",
       "     value {\n",
       "       number_value: 0.518826720393287\n",
       "     }\n",
       "   }\n",
       "   fields {\n",
       "     key: \"V14\"\n",
       "     value {\n",
       "       number_value: -0.85239029071442007\n",
       "     }\n",
       "   }\n",
       "   fields {\n",
       "     key: \"V13\"\n",
       "     value {\n",
       "       number_value: 1.04270495719695\n",
       "     }\n",
       "   }\n",
       "   fields {\n",
       "     key: \"V12\"\n",
       "     value {\n",
       "       number_value: 0.0581859340653056\n",
       "     }\n",
       "   }\n",
       "   fields {\n",
       "     key: \"V11\"\n",
       "     value {\n",
       "       number_value: -0.199737263520665\n",
       "     }\n",
       "   }\n",
       "   fields {\n",
       "     key: \"V10\"\n",
       "     value {\n",
       "       number_value: 0.44419584985132704\n",
       "     }\n",
       "   }\n",
       "   fields {\n",
       "     key: \"Time\"\n",
       "     value {\n",
       "       string_value: \"34522\"\n",
       "     }\n",
       "   }\n",
       "   fields {\n",
       "     key: \"Amount\"\n",
       "     value {\n",
       "       number_value: 0\n",
       "     }\n",
       "   }\n",
       " }]"
      ]
     },
     "execution_count": 43,
     "metadata": {},
     "output_type": "execute_result"
    }
   ],
   "source": [
    "instances = [json_format.ParseDict(newob, Value())]\n",
    "parameters = json_format.ParseDict({}, Value())\n",
    "instances\n",
    "#parameters"
   ]
  },
  {
   "cell_type": "markdown",
   "id": "e671a9a5",
   "metadata": {},
   "source": [
    "### Get Predictions: Python Client"
   ]
  },
  {
   "cell_type": "code",
   "execution_count": 44,
   "id": "072f0a6f",
   "metadata": {
    "tags": []
   },
   "outputs": [
    {
     "data": {
      "text/plain": [
       "'02a'"
      ]
     },
     "execution_count": 44,
     "metadata": {},
     "output_type": "execute_result"
    }
   ],
   "source": [
    "endpoint = aiplatform.Endpoint.list(filter=f'display_name={NOTEBOOK}')[0]\n",
    "endpoint.display_name"
   ]
  },
  {
   "cell_type": "code",
   "execution_count": 45,
   "id": "b775c99f",
   "metadata": {
    "tags": []
   },
   "outputs": [
    {
     "data": {
      "text/plain": [
       "Prediction(predictions=[{'classes': ['0', '1'], 'scores': [0.9999414682388306, 5.850184606970288e-05]}], deployed_model_id='4667102503978926080', metadata=None, model_version_id='1', model_resource_name='projects/685778838146/locations/us-central1/models/2061954837498560512', explanations=None)"
      ]
     },
     "execution_count": 45,
     "metadata": {},
     "output_type": "execute_result"
    }
   ],
   "source": [
    "prediction = endpoint.predict(instances=instances, parameters=parameters)\n",
    "prediction"
   ]
  },
  {
   "cell_type": "code",
   "execution_count": 46,
   "id": "1e716973",
   "metadata": {
    "tags": []
   },
   "outputs": [
    {
     "data": {
      "text/plain": [
       "'0'"
      ]
     },
     "execution_count": 46,
     "metadata": {},
     "output_type": "execute_result"
    }
   ],
   "source": [
    "prediction.predictions[0]['classes'][np.argmax(prediction.predictions[0]['scores'])]"
   ]
  },
  {
   "cell_type": "markdown",
   "id": "a0c157f2",
   "metadata": {},
   "source": [
    "### Get Predictions: REST"
   ]
  },
  {
   "cell_type": "code",
   "execution_count": 47,
   "id": "28b310ce",
   "metadata": {
    "tags": []
   },
   "outputs": [],
   "source": [
    "with open(f'{DIR}/request.json','w') as file:\n",
    "    file.write(json.dumps({\"instances\": [newob]}))"
   ]
  },
  {
   "cell_type": "code",
   "execution_count": 48,
   "id": "2041f335",
   "metadata": {
    "tags": []
   },
   "outputs": [
    {
     "name": "stdout",
     "output_type": "stream",
     "text": [
      "{\n",
      "  \"predictions\": [\n",
      "    {\n",
      "      \"scores\": [\n",
      "        0.99994146823883057,\n",
      "        5.8501846069702879e-05\n",
      "      ],\n",
      "      \"classes\": [\n",
      "        \"0\",\n",
      "        \"1\"\n",
      "      ]\n",
      "    }\n",
      "  ],\n",
      "  \"deployedModelId\": \"4667102503978926080\",\n",
      "  \"model\": \"projects/685778838146/locations/us-central1/models/2061954837498560512\",\n",
      "  \"modelDisplayName\": \"02a\",\n",
      "  \"modelVersionId\": \"1\"\n",
      "}\n"
     ]
    }
   ],
   "source": [
    "!curl -X POST \\\n",
    "-H \"Authorization: Bearer \"$(gcloud auth application-default print-access-token) \\\n",
    "-H \"Content-Type: application/json; charset=utf-8\" \\\n",
    "-d @{DIR}/request.json \\\n",
    "https://{REGION}-aiplatform.googleapis.com/v1/{endpoint.resource_name}:predict"
   ]
  },
  {
   "cell_type": "markdown",
   "id": "71bd36ef",
   "metadata": {},
   "source": [
    "### Get Predictions: gcloud (CLI)"
   ]
  },
  {
   "cell_type": "code",
   "execution_count": 49,
   "id": "ad4befbd",
   "metadata": {
    "tags": []
   },
   "outputs": [
    {
     "name": "stdout",
     "output_type": "stream",
     "text": [
      "Using endpoint [https://us-central1-prediction-aiplatform.googleapis.com/]\n",
      "[{'classes': ['0', '1'], 'scores': [0.9999414682388306, 5.850184606970288e-05]}]\n"
     ]
    }
   ],
   "source": [
    "!gcloud beta ai endpoints predict {endpoint.name.rsplit('/',1)[-1]} --region={REGION} --json-request={DIR}/request.json"
   ]
  },
  {
   "cell_type": "markdown",
   "id": "030bbd84",
   "metadata": {},
   "source": [
    "---\n",
    "## Explanations\n",
    "Interpretation Guide\n",
    "- https://cloud.google.com/vertex-ai/docs/predictions/interpreting-results-automl#tabular"
   ]
  },
  {
   "cell_type": "code",
   "execution_count": 50,
   "id": "81348d83",
   "metadata": {
    "tags": []
   },
   "outputs": [],
   "source": [
    "explanation = endpoint.explain(instances=instances, parameters=parameters)"
   ]
  },
  {
   "cell_type": "code",
   "execution_count": 51,
   "id": "a2e142ff",
   "metadata": {
    "tags": []
   },
   "outputs": [
    {
     "data": {
      "text/plain": [
       "[{'classes': ['0', '1'],\n",
       "  'scores': [0.9999414682388306, 5.850184606970288e-05]}]"
      ]
     },
     "execution_count": 51,
     "metadata": {},
     "output_type": "execute_result"
    }
   ],
   "source": [
    "explanation.predictions"
   ]
  },
  {
   "cell_type": "code",
   "execution_count": 52,
   "id": "33621b6f",
   "metadata": {
    "tags": []
   },
   "outputs": [
    {
     "name": "stdout",
     "output_type": "stream",
     "text": [
      "attribution:\n",
      "baseline output 0.9999788999557495\n",
      "instance output 0.9999414682388306\n",
      "output_index [0]\n",
      "output display value 0\n",
      "approximation error 0.007484530333896257\n"
     ]
    }
   ],
   "source": [
    "print(\"attribution:\")\n",
    "print(\"baseline output\",explanation.explanations[0].attributions[0].baseline_output_value)\n",
    "print(\"instance output\",explanation.explanations[0].attributions[0].instance_output_value)\n",
    "print(\"output_index\",explanation.explanations[0].attributions[0].output_index)\n",
    "print(\"output display value\",explanation.explanations[0].attributions[0].output_display_name)\n",
    "print(\"approximation error\",explanation.explanations[0].attributions[0].approximation_error)"
   ]
  },
  {
   "cell_type": "code",
   "execution_count": 53,
   "id": "7a1d220f-0174-481a-a206-c7a6819015f4",
   "metadata": {
    "tags": []
   },
   "outputs": [
    {
     "data": {
      "image/png": "[encoded data removed]",
      "text/plain": [
       "<Figure size 900x900 with 1 Axes>"
      ]
     },
     "metadata": {},
     "output_type": "display_data"
    }
   ],
   "source": [
    "import matplotlib.pyplot as plt\n",
    "features = []\n",
    "scores = []\n",
    "for k in explanation.explanations[0].attributions[0].feature_attributions:\n",
    "    features.append(k)\n",
    "    scores.append(explanation.explanations[0].attributions[0].feature_attributions[k])\n",
    "features = [x for _, x in sorted(zip(scores, features))]\n",
    "scores = sorted(scores)\n",
    "fig, ax = plt.subplots()\n",
    "fig.set_size_inches(9, 9)\n",
    "ax.barh(features, scores)\n",
    "fig.show()"
   ]
  },
  {
   "cell_type": "markdown",
   "id": "3bb07f70",
   "metadata": {},
   "source": [
    "---\n",
    "## Remove Resources\n",
    "see notebook \"99 - Cleanup\""
   ]
  }
 ],
 "metadata": {
  "environment": {
   "kernel": "python3",
   "name": "tf2-gpu.2-6.m120",
   "type": "gcloud",
   "uri": "us-docker.pkg.dev/deeplearning-platform-release/gcr.io/tf2-gpu.2-6:m120"
  },
  "kernelspec": {
   "display_name": "Python 3 (Local)",
   "language": "python",
   "name": "python3"
  },
  "language_info": {
   "codemirror_mode": {
    "name": "ipython",
    "version": 3
   },
   "file_extension": ".py",
   "mimetype": "text/x-python",
   "name": "python",
   "nbconvert_exporter": "python",
   "pygments_lexer": "ipython3",
   "version": "3.9.19"
  }
 },
 "nbformat": 4,
 "nbformat_minor": 5
}
